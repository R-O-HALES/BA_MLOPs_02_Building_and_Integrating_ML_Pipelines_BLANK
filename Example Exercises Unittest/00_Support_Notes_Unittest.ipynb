{
 "cells": [
  {
   "cell_type": "markdown",
   "id": "c6ba1a30",
   "metadata": {},
   "source": [
    "<img src=\"../media/LandingPage-Header-RED-CENTRE.jpg\" alt=\"Notebook Banner\" style=\"width:100%; height:auto; display:block; margin-left:auto; margin-right:auto;\">"
   ]
  },
  {
   "cell_type": "markdown",
   "id": "unittest_basic_structure_text",
   "metadata": {},
   "source": [
    "# Unittest Exercises\n",
    "\n",
    "This workbook provides some simple exercises to get you familiar with `unittest`. Each exercise has the solution available below, try and attempt the question before checking the solution.\n",
    "\n",
    "### Basic `unittest` Structure Reminder\n",
    "\n",
    "Every `unittest` test case inherits from `unittest.TestCase`. Tests are methods that start with `test_`. Assertions are used to check conditions."
   ]
  },
  {
   "cell_type": "code",
   "execution_count": 4,
   "id": "unittest_basic_structure_code",
   "metadata": {},
   "outputs": [
    {
     "name": "stderr",
     "output_type": "stream",
     "text": [
      "usage: ipykernel_launcher.py [-h] [-v] [-q] [--locals] [-f] [-c] [-b]\n",
      "                             [-k TESTNAMEPATTERNS]\n",
      "                             [tests ...]\n",
      "ipykernel_launcher.py: error: argument -f/--failfast: ignored explicit argument 'c:\\\\Users\\\\u244670\\\\AppData\\\\Roaming\\\\jupyter\\\\runtime\\\\kernel-v374d77f3f945f80b6de5a84d06067d18ae0665daf.json'\n"
     ]
    },
    {
     "ename": "SystemExit",
     "evalue": "2",
     "output_type": "error",
     "traceback": [
      "An exception has occurred, use %tb to see the full traceback.\n",
      "\u001b[31mSystemExit\u001b[39m\u001b[31m:\u001b[39m 2\n"
     ]
    }
   ],
   "source": [
    "import unittest\n",
    "\n",
    "# Function to be tested\n",
    "def add(a, b):\n",
    "    return a + b\n",
    "\n",
    "class TestAddFunction(unittest.TestCase):\n",
    "    def test_positive_numbers(self):\n",
    "        self.assertEqual(add(2, 3), 5)\n",
    "\n",
    "    def test_negative_numbers(self):\n",
    "        self.assertEqual(add(-1, -1), -2)\n",
    "\n",
    "    def test_zero_with_number(self):\n",
    "        self.assertEqual(add(0, 7), 7)\n",
    "\n",
    "if __name__ == '__main__':\n",
    "    unittest.main()"
   ]
  },
  {
   "cell_type": "markdown",
   "id": "exercise_1_desc",
   "metadata": {},
   "source": [
    "### Exercise 1: Testing a Simple Utility Function\n",
    "\n",
    "**Scenario:** You have a utility function that formats a name.\n",
    "\n",
    "**Code to Test:**"
   ]
  },
  {
   "cell_type": "code",
   "execution_count": 5,
   "id": "exercise_1_code_to_test",
   "metadata": {},
   "outputs": [],
   "source": [
    "def format_name(first, last, middle=\"\"):\n",
    "    \"\"\"Formats a name as 'Last, First M.' or 'Last, First'.\"\"\"\n",
    "    if not first and not last:\n",
    "        return \"\" # Added a specific handling for this edge case\n",
    "    if middle:\n",
    "        return f\"{last}, {first} {middle[0].upper()}.\"\n",
    "    return f\"{last}, {first}\""
   ]
  },
  {
   "cell_type": "markdown",
   "id": "exercise_1_task_and_solution_toggle",
   "metadata": {},
   "source": [
    "**Task:** Write `unittest` test cases for `format_name` covering:\n",
    "1.  A name with a first and last name only.\n",
    "2.  A name with a first, middle, and last name.\n",
    "3.  Edge case: empty strings for first/last name (what should happen?).\n",
    "4.  Edge case: middle name is not a single character, ensure only the first character is used.\n",
    "\n"
   ]
  },
  {
   "cell_type": "markdown",
   "id": "exercise_1_solution_end_tag",
   "metadata": {},
   "source": [
    "</details>"
   ]
  },
  {
   "cell_type": "markdown",
   "id": "exercise_2_desc",
   "metadata": {},
   "source": [
    "### Exercise 2: Testing Class Initialization and Methods\n",
    "\n",
    "**Scenario:** You have a `Rectangle` class.\n",
    "\n",
    "**Code to Test:**"
   ]
  },
  {
   "cell_type": "code",
   "execution_count": null,
   "id": "exercise_2_code_to_test",
   "metadata": {},
   "outputs": [],
   "source": [
    "class Rectangle:\n",
    "    def __init__(self, width, height):\n",
    "        if width <= 0 or height <= 0:\n",
    "            raise ValueError(\"Width and height must be positive.\")\n",
    "        self.width = width\n",
    "        self.height = height\n",
    "\n",
    "    def area(self):\n",
    "        return self.width * self.height\n",
    "\n",
    "    def perimeter(self):\n",
    "        return 2 * (self.width + self.height)"
   ]
  },
  {
   "cell_type": "markdown",
   "id": "exercise_2_task_and_solution_toggle",
   "metadata": {},
   "source": [
    "**Task:** Write `unittest` test cases for the `Rectangle` class covering:\n",
    "1.  Successful initialization with valid dimensions.\n",
    "2.  `ValueError` is raised for non-positive width or height during initialization.\n",
    "3.  Correct `area` calculation.\n",
    "4.  Correct `perimeter` calculation.\n",
    "5.  Consider adding `setUp` method to create a common `Rectangle` instance for multiple tests.\n",
    "\n"
   ]
  },
  {
   "cell_type": "code",
   "execution_count": null,
   "id": "exercise_2_solution_code",
   "metadata": {},
   "outputs": [],
   "source": [
    "import unittest\n",
    "\n"
   ]
  },
  {
   "cell_type": "markdown",
   "id": "exercise_2_solution_end_tag",
   "metadata": {},
   "source": [
    "</details>"
   ]
  },
  {
   "cell_type": "markdown",
   "id": "exercise_3_desc",
   "metadata": {},
   "source": [
    "### Exercise 3: Testing Randomness (with a caveat)\n",
    "\n",
    "**Scenario:** You have a function that shuffles a list, and you want to ensure it generally changes the order, but acknowledging true randomness is hard to test deterministically.\n",
    "\n",
    "**Code to Test:**"
   ]
  },
  {
   "cell_type": "code",
   "execution_count": null,
   "id": "unconventional_exercise_3_code_to_test",
   "metadata": {},
   "outputs": [],
   "source": [
    "import random\n",
    "\n",
    "def shuffle_list_in_place(items):\n",
    "    \"\"\"Shuffles a list in place.\"\"\"\n",
    "    random.shuffle(items)\n",
    "    return items # Return for convenience in testing\n",
    "\n",
    "def get_random_number_in_range(low, high):\n",
    "    \"\"\"Returns a random integer within a specified range (inclusive).\"\"\"\n",
    "    return random.randint(low, high)"
   ]
  },
  {
   "cell_type": "markdown",
   "id": "exercise_3_task_and_solution_toggle",
   "metadata": {},
   "source": [
    "**Task:** Write `unittest` tests for these functions.\n",
    "1.  **For `shuffle_list_in_place`:**\n",
    "    * Test that the shuffled list has the same elements as the original (just in a different order). Use `self.assertCountEqual`.\n",
    "    * Test that the shuffled list is *usually* not the same as the original. Run the shuffle multiple times and assert that the original and shuffled lists are not equal in a high percentage of runs. (Note: This is probabilistic and can fail rarely, which is why it's unconventional for strict unit tests).\n",
    "    * **Hint:** Use `random.seed()` in your `setUp` or test method to make the shuffle *deterministic* for testing purposes, but explain why this is done (to ensure test repeatability) and its limitation for real randomness.\n",
    "2.  **For `get_random_number_in_range`:**\n",
    "    * Test that the returned number falls within the expected range (`low` and `high` inclusive). Run many iterations.\n",
    "    * Test that if `random.seed()` is set, the function produces a *predictable* sequence of numbers.\n",
    "\n",
    "<details>\n",
    "<summary>Click to reveal Solution for Exercise 3</summary>"
   ]
  },
  {
   "cell_type": "code",
   "execution_count": null,
   "id": "unconventional_exercise_3_solution_code",
   "metadata": {},
   "outputs": [
    {
     "name": "stderr",
     "output_type": "stream",
     "text": [
      "...F...EE\n",
      "======================================================================\n",
      "ERROR: test_get_greeting (__main__.TestTimeSensitiveLogic.test_get_greeting)\n",
      "----------------------------------------------------------------------\n",
      "Traceback (most recent call last):\n",
      "  File \"c:\\Users\\MiguelAngelSanchezRa\\anaconda3\\envs\\base2\\Lib\\unittest\\mock.py\", line 1372, in patched\n",
      "    with self.decoration_helper(patched,\n",
      "  File \"c:\\Users\\MiguelAngelSanchezRa\\anaconda3\\envs\\base2\\Lib\\contextlib.py\", line 137, in __enter__\n",
      "    return next(self.gen)\n",
      "           ^^^^^^^^^^^^^^\n",
      "  File \"c:\\Users\\MiguelAngelSanchezRa\\anaconda3\\envs\\base2\\Lib\\unittest\\mock.py\", line 1354, in decoration_helper\n",
      "    arg = exit_stack.enter_context(patching)\n",
      "          ^^^^^^^^^^^^^^^^^^^^^^^^^^^^^^^^^^\n",
      "  File \"c:\\Users\\MiguelAngelSanchezRa\\anaconda3\\envs\\base2\\Lib\\contextlib.py\", line 505, in enter_context\n",
      "    result = _enter(cm)\n",
      "             ^^^^^^^^^^\n",
      "  File \"c:\\Users\\MiguelAngelSanchezRa\\anaconda3\\envs\\base2\\Lib\\unittest\\mock.py\", line 1443, in __enter__\n",
      "    original, local = self.get_original()\n",
      "                      ^^^^^^^^^^^^^^^^^^^\n",
      "  File \"c:\\Users\\MiguelAngelSanchezRa\\anaconda3\\envs\\base2\\Lib\\unittest\\mock.py\", line 1416, in get_original\n",
      "    raise AttributeError(\n",
      "AttributeError: <module 'builtins' (built-in)> does not have the attribute 'datetime'\n",
      "\n",
      "======================================================================\n",
      "ERROR: test_simulate_long_operation (__main__.TestTimeSensitiveLogic.test_simulate_long_operation)\n",
      "----------------------------------------------------------------------\n",
      "Traceback (most recent call last):\n",
      "  File \"c:\\Users\\MiguelAngelSanchezRa\\anaconda3\\envs\\base2\\Lib\\unittest\\mock.py\", line 1372, in patched\n",
      "    with self.decoration_helper(patched,\n",
      "  File \"c:\\Users\\MiguelAngelSanchezRa\\anaconda3\\envs\\base2\\Lib\\contextlib.py\", line 137, in __enter__\n",
      "    return next(self.gen)\n",
      "           ^^^^^^^^^^^^^^\n",
      "  File \"c:\\Users\\MiguelAngelSanchezRa\\anaconda3\\envs\\base2\\Lib\\unittest\\mock.py\", line 1354, in decoration_helper\n",
      "    arg = exit_stack.enter_context(patching)\n",
      "          ^^^^^^^^^^^^^^^^^^^^^^^^^^^^^^^^^^\n",
      "  File \"c:\\Users\\MiguelAngelSanchezRa\\anaconda3\\envs\\base2\\Lib\\contextlib.py\", line 505, in enter_context\n",
      "    result = _enter(cm)\n",
      "             ^^^^^^^^^^\n",
      "  File \"c:\\Users\\MiguelAngelSanchezRa\\anaconda3\\envs\\base2\\Lib\\unittest\\mock.py\", line 1443, in __enter__\n",
      "    original, local = self.get_original()\n",
      "                      ^^^^^^^^^^^^^^^^^^^\n",
      "  File \"c:\\Users\\MiguelAngelSanchezRa\\anaconda3\\envs\\base2\\Lib\\unittest\\mock.py\", line 1416, in get_original\n",
      "    raise AttributeError(\n",
      "AttributeError: <module 'builtins' (built-in)> does not have the attribute 'datetime'\n",
      "\n",
      "======================================================================\n",
      "FAIL: test_get_random_number_in_range_deterministic_with_seed (__main__.TestRandomness.test_get_random_number_in_range_deterministic_with_seed)\n",
      "----------------------------------------------------------------------\n",
      "Traceback (most recent call last):\n",
      "  File \"C:\\Users\\MiguelAngelSanchezRa\\AppData\\Local\\Temp\\ipykernel_35088\\1501727292.py\", line 69, in test_get_random_number_in_range_deterministic_with_seed\n",
      "    self.assertEqual(get_random_number_in_range(1, 10), expected_sequence[0])\n",
      "AssertionError: 3 != 8\n",
      "\n",
      "----------------------------------------------------------------------\n",
      "Ran 9 tests in 0.016s\n",
      "\n",
      "FAILED (failures=1, errors=2)\n"
     ]
    }
   ],
   "source": [
    "import unittest\n",
    "\n"
   ]
  },
  {
   "cell_type": "markdown",
   "id": "exercise_3_solution_end_tag",
   "metadata": {},
   "source": [
    "</details>"
   ]
  },
  {
   "cell_type": "markdown",
   "id": "exercise_4_desc",
   "metadata": {},
   "source": [
    "### Unconventional Exercise 4: Testing Time-Sensitive Logic\n",
    "\n",
    "**Scenario:** You have a function that performs an action, and its behavior depends on the current time or a delay. You want to test it without actually waiting.\n",
    "\n",
    "**Code to Test:**"
   ]
  },
  {
   "cell_type": "code",
   "execution_count": 3,
   "id": "exercise_4_code_to_test",
   "metadata": {},
   "outputs": [],
   "source": [
    "import time\n",
    "from datetime import datetime, timedelta\n",
    "\n",
    "def get_greeting(hour):\n",
    "    \"\"\"Returns a greeting based on the hour (0-23).\"\"\"\n",
    "    if 6 <= hour < 12:\n",
    "        return \"Good morning!\"\n",
    "    elif 12 <= hour < 18:\n",
    "        return \"Good afternoon!\"\n",
    "    else:\n",
    "        return \"Good evening!\"\n",
    "\n",
    "def simulate_long_operation(duration_seconds):\n",
    "    \"\"\"Simulates an operation that takes a certain duration.\"\"\"\n",
    "    start_time = datetime.now()\n",
    "    # In a real scenario, this would involve some computation/IO\n",
    "    time.sleep(duration_seconds)\n",
    "    end_time = datetime.now()\n",
    "    return end_time - start_time"
   ]
  },
  {
   "cell_type": "markdown",
   "id": "exercise_4_task_and_solution_toggle",
   "metadata": {},
   "source": [
    "**Task:** Write `unittest` tests for these functions using `mock` (which is part of `unittest.mock` in Python 3.3+).\n",
    "1.  **For `get_greeting`:**\n",
    "    * Use `unittest.mock.patch` to mock `datetime.now()` so you can control what time `datetime.now()` returns. Test each greeting period (morning, afternoon, evening).\n",
    "    * **Hint:** `with patch('builtins.datetime') as mock_dt: mock_dt.now.return_value = your_test_datetime; # Call your function`\n",
    "2.  **For `simulate_long_operation`:**\n",
    "    * Use `unittest.mock.patch` to mock `time.sleep()`. Assert that `time.sleep()` was called with the correct `duration_seconds` argument, without actually waiting.\n",
    "    * **Hint:** You'll need to mock both `datetime.now` and `time.sleep`. For `datetime.now`, you can set different `side_effect` values or `return_value`s for successive calls to simulate time passing.\n",
    "\n",
    "<details>\n",
    "<summary>Click to reveal Solution for Exercise 4</summary>"
   ]
  },
  {
   "cell_type": "code",
   "execution_count": null,
   "id": "exercise_4_solution_code",
   "metadata": {},
   "outputs": [],
   "source": [
    "import unittest\n"
   ]
  },
  {
   "cell_type": "markdown",
   "id": "exercise_4_solution_end_tag",
   "metadata": {},
   "source": [
    "</details>"
   ]
  },
  {
   "cell_type": "markdown",
   "id": "exercise_5_desc",
   "metadata": {},
   "source": [
    "### Exercise 5: Testing Output (Print Statements)\n",
    "\n",
    "**Scenario:** You have a function that primarily interacts with the user by printing to the console, and you want to ensure it prints the correct messages.\n",
    "\n",
    "**Code to Test:**"
   ]
  },
  {
   "cell_type": "code",
   "execution_count": null,
   "id": "exercise_5_code_to_test",
   "metadata": {},
   "outputs": [],
   "source": [
    "def print_countdown(n):\n",
    "    \"\"\"Prints a countdown from n to 1, then 'Lift off!'.\"\"\"\n",
    "    for i in range(n, 0, -1):\n",
    "        print(f\"{i}...\")\n",
    "    print(\"Lift off!\")\n",
    "\n",
    "def confirm_action(action_name):\n",
    "    \"\"\"Asks for confirmation and prints a message.\"\"\"\n",
    "    print(f\"Are you sure you want to {action_name}? (yes/no)\")\n",
    "    # In a real app, this would get input; here, we just print\n",
    "    print(\"Action confirmed (simulated).\")"
   ]
  },
  {
   "cell_type": "markdown",
   "id": "unconventional_exercise_3_task_and_solution_toggle",
   "metadata": {},
   "source": [
    "**Task:** Write `unittest` tests for these functions.\n",
    "1.  **For `print_countdown`:**\n",
    "    * Capture `sys.stdout` (where `print` sends output) and assert that the captured output matches the expected countdown string precisely.\n",
    "    * **Hint:** Use `io.StringIO` and `sys.stdout = my_string_io` (and remember to restore `sys.stdout` in `tearDown` or a `finally` block).\n",
    "2.  **For `confirm_action`:**\n",
    "    * Capture `sys.stdout` and verify that both expected lines of text are printed.\n",
    "\n",
    "<details>\n",
    "<summary>Click to reveal Solution for Unconventional Exercise 3</summary>"
   ]
  },
  {
   "cell_type": "code",
   "execution_count": null,
   "id": "exercise_5_solution_code",
   "metadata": {},
   "outputs": [
    {
     "name": "stderr",
     "output_type": "stream",
     "text": [
      "..\n",
      "----------------------------------------------------------------------\n",
      "Ran 2 tests in 0.002s\n",
      "\n",
      "OK\n"
     ]
    }
   ],
   "source": [
    "import unittest\n"
   ]
  },
  {
   "cell_type": "markdown",
   "id": "exercise_5_solution_end_tag",
   "metadata": {},
   "source": [
    "</details>"
   ]
  }
 ],
 "metadata": {
  "kernelspec": {
   "display_name": "Python 3",
   "language": "python",
   "name": "python3"
  },
  "language_info": {
   "codemirror_mode": {
    "name": "ipython",
    "version": 3
   },
   "file_extension": ".py",
   "mimetype": "text/x-python",
   "name": "python",
   "nbconvert_exporter": "python",
   "pygments_lexer": "ipython3",
   "version": "3.11.9"
  }
 },
 "nbformat": 4,
 "nbformat_minor": 5
}
